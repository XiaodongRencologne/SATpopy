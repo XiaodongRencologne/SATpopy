{
 "cells": [
  {
   "cell_type": "code",
   "execution_count": 1,
   "metadata": {},
   "outputs": [],
   "source": [
    "import numpy as np\n",
    "from GOElement import BoR_MoM_lens,coor_sys,global_coord\n",
    "Silicon = 3.36\n",
    "thickness = 4.34991\n",
    "layer_index = [2.855,2.855,1.979,1.979,1.268,1.268]\n",
    "layer_t = [ 2.570000000000000E-002,2.570000000000000E-002,3.100000000000000E-002,3.100000000000000E-002,5.000000000000000E-002,5.000000000000000E-002 ]\n",
    "surface1 = np.genfromtxt('output/srf_MoM/lens1_f1.rsf',skip_header=2)\n",
    "surface2 = np.genfromtxt('output/srf_MoM/lens1_f2.rsf',skip_header=2)"
   ]
  },
  {
   "cell_type": "code",
   "execution_count": 2,
   "metadata": {},
   "outputs": [],
   "source": [
    "L_lensFp_3 = 1.500000000000000E+000 + 4.500000000000000E-001 + 2.155325400289750E+000 + 5.000000000000000E-002 + 3.100000000000000E-002 +2.570000000000000E-002 + 2.965564711384346E+000\n",
    "L_lens3_2 = 2.570000000000000E-002 + 3.100000000000000E-002 +5.000000000000000E-002 +1.067669990352706E+001 + 5.000000000000000E-002 +3.100000000000000E-002 +2.570000000000000E-002 +4.696706712699847E+000\n",
    "L_lens2_1 = 2.570000000000000E-002 + 3.100000000000000E-002 + 5.000000000000000E-002 +3.893300000000000E+000 +4.500000000000000E-001 +5.000000000000000E-001 +4.500000000000000E-001 + 4.777619456395134E+001+ 5.000000000000000E-002+ 3.100000000000000E-002 +2.570000000000000E-002 +4.349908221542306E+000\n",
    "L_lens1_Lyot = 2.570000000000000E-002 + 3.100000000000000E-002 + 5.000000000000000E-002 +1.055350628144469E+000\n",
    "L_Ly_vw = 2.94+ 0.3 + 1.06 + 0.36 +0.3706 +0.3548 + 8.1448 + 0.3 + 0.95 +4.0*10**(-4) +0.9 + 4*10**(-4) + 5.53 + 4*10**(-4) + 0.3+ 1.2"
   ]
  },
  {
   "cell_type": "code",
   "execution_count": 3,
   "metadata": {},
   "outputs": [],
   "source": [
    "coor_ref = coor_sys([0,0,0],[0,0,0],ref_coor = global_coord,name='coor_feed_ref',)\n",
    "coor_lens1 = coor_sys([0,0,-L_lens2_1*10-L_lens3_2*10-L_lensFp_3*10],[0,0,0],ref_coor = coor_ref,name='coor_lens1',)"
   ]
  },
  {
   "cell_type": "code",
   "execution_count": 4,
   "metadata": {},
   "outputs": [],
   "source": [
    "L1_mesh = BoR_MoM_lens(coor_lens1,\n",
    "                       Silicon,\n",
    "                        thickness,\n",
    "                        layer_index,\n",
    "                        layer_t,\n",
    "                        surface1,\n",
    "                        surface2,\n",
    "                        length_unit = 'cm',\n",
    "                        name ='L1_mesh')\n",
    "\n"
   ]
  },
  {
   "cell_type": "code",
   "execution_count": null,
   "metadata": {},
   "outputs": [],
   "source": [
    "L2_mesh = BoR_MoM_lens(coor_lens1,\n",
    "                       Silicon,\n",
    "                        thickness,\n",
    "                        layer_index,\n",
    "                        layer_t,\n",
    "                        surface1,\n",
    "                        surface2,\n",
    "                        length_unit = 'cm',\n",
    "                        name ='L2_mesh')\n",
    "\n",
    "L3_mesh = BoR_MoM_lens(coor_lens1,\n",
    "                       Silicon,\n",
    "                        thickness,\n",
    "                        layer_index,\n",
    "                        layer_t,\n",
    "                        surface1,\n",
    "                        surface2,\n",
    "                        length_unit = 'cm',\n",
    "                        name ='L3_mesh')"
   ]
  },
  {
   "cell_type": "code",
   "execution_count": 5,
   "metadata": {},
   "outputs": [
    {
     "data": {
      "text/plain": [
       "array([[1.00000000e+00, 0.00000000e+00, 0.00000000e+00],\n",
       "       [2.00000000e+00, 2.24000000e-01, 3.15030000e-04],\n",
       "       [3.00000000e+00, 4.48000000e-01, 1.26012000e-03],\n",
       "       ...,\n",
       "       [8.06000000e+02, 2.19520000e+01, 6.51058282e+00],\n",
       "       [8.07000000e+02, 2.21760000e+01, 6.52071207e+00],\n",
       "       [8.08000000e+02, 2.24000000e+01, 6.52972960e+00]])"
      ]
     },
     "execution_count": 5,
     "metadata": {},
     "output_type": "execute_result"
    }
   ],
   "source": [
    "L1_mesh.nodes"
   ]
  },
  {
   "cell_type": "code",
   "execution_count": 6,
   "metadata": {},
   "outputs": [
    {
     "data": {
      "text/plain": [
       "array([[1.00000000e+00, 0.00000000e+00, 0.00000000e+00],\n",
       "       [2.00000000e+00, 2.24000000e-01, 3.15030000e-04],\n",
       "       [3.00000000e+00, 4.48000000e-01, 1.26012000e-03],\n",
       "       ...,\n",
       "       [8.06000000e+02, 2.19520000e+01, 6.51058282e+00],\n",
       "       [8.07000000e+02, 2.21760000e+01, 6.52071207e+00],\n",
       "       [8.08000000e+02, 2.24000000e+01, 6.52972960e+00]])"
      ]
     },
     "execution_count": 6,
     "metadata": {},
     "output_type": "execute_result"
    }
   ],
   "source": [
    "L1_mesh.nodes"
   ]
  },
  {
   "cell_type": "code",
   "execution_count": 5,
   "metadata": {},
   "outputs": [],
   "source": [
    "def write_to_Tor():\n",
    "    with open('output/bormom_lens1.tor','w') as f:\n",
    "        f.writelines(L1_mesh.Str)"
   ]
  },
  {
   "cell_type": "code",
   "execution_count": 6,
   "metadata": {},
   "outputs": [],
   "source": [
    "write_to_Tor()"
   ]
  },
  {
   "cell_type": "code",
   "execution_count": null,
   "metadata": {},
   "outputs": [],
   "source": []
  }
 ],
 "metadata": {
  "kernelspec": {
   "display_name": "ccatholo",
   "language": "python",
   "name": "python3"
  },
  "language_info": {
   "codemirror_mode": {
    "name": "ipython",
    "version": 3
   },
   "file_extension": ".py",
   "mimetype": "text/x-python",
   "name": "python",
   "nbconvert_exporter": "python",
   "pygments_lexer": "ipython3",
   "version": "3.9.18"
  }
 },
 "nbformat": 4,
 "nbformat_minor": 2
}
