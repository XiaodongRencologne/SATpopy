{
 "cells": [
  {
   "cell_type": "code",
   "execution_count": 1,
   "metadata": {},
   "outputs": [],
   "source": [
    "import numpy as np;\n",
    "from MkGRASP import write_coord,write_surf,write_rim,write_scatter_multer;\n",
    "from MkGRASP import write_frequency,write_beam,write_multi_po;\n",
    "from MkGRASP import write_planar_grid,write_spherical_grid;"
   ]
  },
  {
   "cell_type": "code",
   "execution_count": 2,
   "metadata": {},
   "outputs": [],
   "source": [
    "''' \n",
    "basic information of two mirrors\n",
    "'''\n",
    "#1. size of the two mirrors\n",
    "M2_size=[400,437]\n",
    "M1_size=[400,437]\n",
    "List_m2=np.array([[0,1.5]]);\n",
    "List_m1=np.array([[0,1.5]]);\n",
    "#2. source distance\n",
    "distance=8;\n",
    "#3. source range\n",
    "u_range=0.1\n",
    "v_range=0.1\n",
    "Nu=101;\n",
    "Nv=101;\n",
    "# setup of telescope\n",
    "Theta_0=0.927295218001612\n",
    "Ls=780.0470675116178\n",
    "Lm=450\n",
    "F=1300\n",
    "a=585.1235655326061\n",
    "L_fimag=a*2+Ls;\n",
    "Feq=960\n",
    "# off-axis angle\n",
    "u0=2.15/180*np.pi;\n",
    "v0=2.15/180*np.pi;\n",
    "u0=0.024\n",
    "v0=0.024\n",
    "defocus=[0,0,0];\n",
    "\n",
    "IFsize=[-500,500,101]\n",
    "plane1=[-400,400,101];\n",
    "plane2=[-400,400,101];\n",
    "\n",
    "defocus_fimag=[0,0,0];\n",
    "defocus_fimag[2]=1/(1/F-1/(Ls+defocus[2]))+L_fimag;\n",
    "defocus_fimag[1]=(F+L_fimag-defocus_fimag[2])/F*defocus[1];\n",
    "defocus_fimag[0]=(F+L_fimag-defocus_fimag[2])/F*defocus[0];\n",
    "D_fimag=[0,0,0]\n",
    "D_fimag[0]=defocus_fimag[0];\n",
    "D_fimag[1]=defocus_fimag[1]*np.cos(Theta_0)-np.sin(Theta_0)*(L_fimag-defocus_fimag[2]+Lm);\n",
    "D_fimag[2]=-defocus_fimag[1]*np.sin(Theta_0)-np.cos(Theta_0)*(L_fimag-defocus_fimag[2]);\n",
    "defocus_angle=[-np.arctan(4/3)*180/np.pi,0,0];"
   ]
  },
  {
   "cell_type": "code",
   "execution_count": 3,
   "metadata": {},
   "outputs": [
    {
     "name": "stdout",
     "output_type": "stream",
     "text": [
      "[-53.13010235415598, 0, 0]\n"
     ]
    }
   ],
   "source": [
    "'''1. make coords'''\n",
    "class coord():\n",
    "    def __init__(self,name='',origin=[0,0,0],angle=[0,0,0],base='mechanical_axis.cs',Type='coor_sys'):\n",
    "        self.name=name;\n",
    "        self.origin=np.array(origin);\n",
    "        self.angle=np.array(angle)/180*np.pi;\n",
    "        self.base=base;\n",
    "        self.str=write_coord(self.name,self.origin,self.angle,base=self.base,Type=Type);\n",
    "\n",
    "secondary_mirror=coord(name='secondary_mirror.cs',origin=[0,-Lm*np.sin(Theta_0),0],angle=[np.arctan(3/4)/2*180/np.pi-90,0,0],Type='coor_sys');\n",
    "primary_mirror=coord(name='primary_mirror.cs',origin=[0,0,Lm*np.cos(Theta_0)],angle=[-np.arctan(4/3)/2*180/np.pi,0,0],Type='coor_sys');\n",
    "focale_plane=coord(name='focale_plane.cs',origin=[0,Ls-Lm*np.sin(Theta_0),0],angle=[-90,0,0],Type='coor_sys');\n",
    "focale_plane_rev=coord(name='focale_plane_rev.cs',origin=defocus,angle=[180,0,0],base='focale_plane.cs',Type='coor_sys')\n",
    "mechanical_axis=coord(name='mechanical_axis.cs');\n",
    "boresight=coord(name='boresight.cs',origin=[0,0,0],angle=[0,180,0],Type='coor_sys');\n",
    "print(defocus_angle);\n",
    "IF_coord=coord(name='IF_coord.cs',origin=D_fimag,angle=defocus_angle,Type='coor_sys');\n",
    "\n",
    "'''2. make panel rims'''\n",
    "def rims(centres,sizes,name=''):\n",
    "    Str='';\n",
    "    items=();\n",
    "    for n in range(int(centres.size/2)):\n",
    "        Str+=write_rim(name+'_'+str(n+1).zfill(2),centres[n,...],sizes[n,...],Type='rectangular_rim');\n",
    "        items=items+((name+'_'+str(n+1).zfill(2))+'.rim',)\n",
    "    return Str,items;\n",
    "\n",
    "\n",
    "\n",
    "M2_size=M2_size*int(List_m2.size/2);\n",
    "M1_size=M1_size*int(List_m1.size/2);\n",
    "M2_rims,M2_items=rims(List_m2,np.array(M2_size).reshape(-1,2),name='secondary');\n",
    "M1_rims,M1_items=rims(List_m1,np.array(M1_size).reshape(-1,2),name='primary');\n",
    "\n",
    "'''3. make surface'''\n",
    "secondary_mirror_surf=write_surf('secondary_mirror',filename='surf/secondary_surface.sfc',Type='regular_xy_grid');\n",
    "primary_mirror_surf=write_surf('primary_mirror',filename='surf/primary_surface.sfc',Type='regular_xy_grid');\n",
    "#IF_plane=write_surf_plane('IF_plane',point);\n",
    "'''4. make panel distortion surface'''\n",
    "\n",
    "'''5. make scatters'''\n",
    "primary_panels=write_scatter_multer('primary_panels','primary_mirror.cs','primary_mirror.surf',M1_items,distortions='')\n",
    "secondary_panels=write_scatter_multer('secondary_panels','secondary_mirror.cs','secondary_mirror.surf',M2_items,distortions='');\n",
    "'''6. make frequency'''\n",
    "feed_296=write_frequency('feed_296',freq_list=[296]);\n",
    "\n",
    "'''7. make Gaussian feed'''\n",
    "gaussian_beam_pattern=write_beam('gaussian_beam_pattern',freq='feed_296',coor_sys='focale_plane_rev.cs',taper_angle=11.894,taper=-8,polarisation='linear_x');\n",
    "\n",
    "\n",
    "'''8. make po_multi_face_scatterer'''\n",
    "primary_panels_po=write_multi_po('primary_panels','feed_296','primary_panels.refl',method='po');\n",
    "secondary_panels_po=write_multi_po('secondary_panels','feed_296','secondary_panels.refl',method='po');\n",
    "\n",
    "'''9. make source filed'''\n",
    "near_uv=write_spherical_grid('near_uv','boresight.cs',u_range,v_range,0,0,Nu,Nv,near_far='near',near_dist=distance,filename='');\n",
    "near_uv_pospos=write_spherical_grid('near_uv_pospos','boresight.cs',u_range,v_range,u0,-v0,Nu,Nv,near_far='near',near_dist=distance,filename='');\n",
    "near_uv_posneg=write_spherical_grid('near_uv_posneg','boresight.cs',u_range,v_range,u0,v0,Nu,Nv,near_far='near',near_dist=distance,filename='');\n",
    "near_uv_negpos=write_spherical_grid('near_uv_negpos','boresight.cs',u_range,v_range,-u0,-v0,Nu,Nv,near_far='near',near_dist=distance,filename='');\n",
    "near_uv_negneg=write_spherical_grid('near_uv_negneg','boresight.cs',u_range,v_range,-u0,v0,Nu,Nv,near_far='near',near_dist=distance,filename='');\n",
    "\n",
    "near_IF=write_planar_grid('near_IF','IF_coord.cs',0,x_range=IFsize,y_range=IFsize,grid_type='xy',filename='')\n",
    "near_plane1=write_planar_grid('near_plane1','boresight.cs',near_dist=7,x_range=plane1,y_range=plane1,grid_type='xy',filename='')\n",
    "near_plane2=write_planar_grid('near_plane2','boresight.cs',near_dist=8,x_range=plane2,y_range=plane2,grid_type='xy',filename='')"
   ]
  },
  {
   "cell_type": "code",
   "execution_count": 4,
   "metadata": {},
   "outputs": [],
   "source": [
    "# write to tor file;\n",
    "with open('torfile/CCAT-optics.tor','w') as f:\n",
    "    '''1. write geometry'''\n",
    "    # write coordinates systems;\n",
    "    f.writelines(mechanical_axis.str);\n",
    "    f.writelines(secondary_mirror.str);\n",
    "    f.writelines(primary_mirror.str);\n",
    "    f.writelines(focale_plane.str);\n",
    "    f.writelines(focale_plane_rev.str);\n",
    "    f.writelines(boresight.str);\n",
    "    f.writelines(IF_coord.str);\n",
    "    # write surf\n",
    "    f.writelines(secondary_mirror_surf);\n",
    "    f.writelines(primary_mirror_surf);\n",
    "    # write rim\n",
    "    f.writelines(M2_rims);\n",
    "    f.writelines(M1_rims);\n",
    "    # write scatter\n",
    "    f.writelines(primary_panels)\n",
    "    f.writelines(secondary_panels);\n",
    "    # write frequency\n",
    "    f.writelines(feed_296);\n",
    "    # write gaussian feed\n",
    "    f.writelines(gaussian_beam_pattern);\n",
    "    \n",
    "    \n",
    "    '''2. write po'''\n",
    "    f.writelines(primary_panels_po);\n",
    "    f.writelines(secondary_panels_po);\n",
    "    \n",
    "    '''3. write field'''\n",
    "    # write source field\n",
    "    f.writelines(near_uv);\n",
    "    f.writelines(near_uv_pospos);\n",
    "    f.writelines(near_uv_posneg);\n",
    "    f.writelines(near_uv_negpos);\n",
    "    f.writelines(near_uv_negneg);\n",
    "    # write plane field;\n",
    "    f.writelines(near_IF);\n",
    "    f.writelines(near_plane1);\n",
    "    f.writelines(near_plane2);\n",
    "    \n",
    "    \n",
    "    \n",
    "    "
   ]
  },
  {
   "cell_type": "code",
   "execution_count": 5,
   "metadata": {},
   "outputs": [
    {
     "data": {
      "text/plain": [
       "[0, 420.04706751161785, 0]"
      ]
     },
     "execution_count": 5,
     "metadata": {},
     "output_type": "execute_result"
    }
   ],
   "source": [
    "[0,Ls-Lm*np.sin(Theta_0),0]"
   ]
  },
  {
   "cell_type": "code",
   "execution_count": 6,
   "metadata": {},
   "outputs": [
    {
     "data": {
      "text/plain": [
       "[0, -359.99999999999994, 0]"
      ]
     },
     "execution_count": 6,
     "metadata": {},
     "output_type": "execute_result"
    }
   ],
   "source": [
    "[0,-Lm*np.sin(Theta_0),0]"
   ]
  },
  {
   "cell_type": "code",
   "execution_count": 7,
   "metadata": {},
   "outputs": [
    {
     "data": {
      "text/plain": [
       "[0, 0, 270.0000000000001]"
      ]
     },
     "execution_count": 7,
     "metadata": {},
     "output_type": "execute_result"
    }
   ],
   "source": [
    "[0,0,Lm*np.cos(Theta_0)]"
   ]
  },
  {
   "cell_type": "code",
   "execution_count": null,
   "metadata": {},
   "outputs": [],
   "source": []
  },
  {
   "cell_type": "code",
   "execution_count": null,
   "metadata": {},
   "outputs": [],
   "source": []
  }
 ],
 "metadata": {
  "kernelspec": {
   "display_name": "Python 3 (ipykernel)",
   "language": "python",
   "name": "python3"
  },
  "language_info": {
   "codemirror_mode": {
    "name": "ipython",
    "version": 3
   },
   "file_extension": ".py",
   "mimetype": "text/x-python",
   "name": "python",
   "nbconvert_exporter": "python",
   "pygments_lexer": "ipython3",
   "version": "3.9.21"
  }
 },
 "nbformat": 4,
 "nbformat_minor": 4
}
