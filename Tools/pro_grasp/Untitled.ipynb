{
 "cells": [
  {
   "cell_type": "code",
   "execution_count": 1,
   "id": "14209c57-b138-45fd-9d38-867b0e27769b",
   "metadata": {},
   "outputs": [],
   "source": [
    "import numpy as np"
   ]
  },
  {
   "cell_type": "code",
   "execution_count": 2,
   "id": "afe46ac1-8347-43c9-96db-abd4ac4d6a5b",
   "metadata": {},
   "outputs": [],
   "source": [
    "cw = [np.array([78., 121., 165.])/255.,\n",
    "np.array([241., 143., 59.])/255.,\n",
    "np.array([224., 88., 91.])/255.,\n",
    "np.array([119., 183., 178.])/255.,\n",
    "np.array([90., 161., 85.])/255.,\n",
    "np.array([237., 201., 88.])/255.,\n",
    "np.array([175., 122., 160.])/255.,\n",
    "np.array([254., 158., 168.])/255.,\n",
    "np.array([156., 117., 97.])/255.,\n",
    "np.array([186., 176., 172.])/255.]"
   ]
  },
  {
   "cell_type": "code",
   "execution_count": 3,
   "id": "aaf3a317-eae8-431e-a3a9-d7527119cc08",
   "metadata": {},
   "outputs": [
    {
     "data": {
      "text/plain": [
       "[array([0.30588235, 0.4745098 , 0.64705882]),\n",
       " array([0.94509804, 0.56078431, 0.23137255]),\n",
       " array([0.87843137, 0.34509804, 0.35686275]),\n",
       " array([0.46666667, 0.71764706, 0.69803922]),\n",
       " array([0.35294118, 0.63137255, 0.33333333]),\n",
       " array([0.92941176, 0.78823529, 0.34509804]),\n",
       " array([0.68627451, 0.47843137, 0.62745098]),\n",
       " array([0.99607843, 0.61960784, 0.65882353]),\n",
       " array([0.61176471, 0.45882353, 0.38039216]),\n",
       " array([0.72941176, 0.69019608, 0.6745098 ])]"
      ]
     },
     "execution_count": 3,
     "metadata": {},
     "output_type": "execute_result"
    }
   ],
   "source": [
    "cw"
   ]
  },
  {
   "cell_type": "code",
   "execution_count": null,
   "id": "22c7e371-a67b-4304-b7af-d3ec5598f5c6",
   "metadata": {},
   "outputs": [],
   "source": []
  }
 ],
 "metadata": {
  "kernelspec": {
   "display_name": "Python 3 (ipykernel)",
   "language": "python",
   "name": "python3"
  },
  "language_info": {
   "codemirror_mode": {
    "name": "ipython",
    "version": 3
   },
   "file_extension": ".py",
   "mimetype": "text/x-python",
   "name": "python",
   "nbconvert_exporter": "python",
   "pygments_lexer": "ipython3",
   "version": "3.9.21"
  }
 },
 "nbformat": 4,
 "nbformat_minor": 5
}
