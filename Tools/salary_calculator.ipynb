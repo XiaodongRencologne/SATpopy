{
 "cells": [
  {
   "cell_type": "code",
   "execution_count": 1,
   "metadata": {},
   "outputs": [],
   "source": [
    "monthly = 500000\n",
    "tax_discount = 64926\n",
    "uni_cost = 0.006\n",
    "retired_cost = 0.04\n",
    "Real_Month = monthly * (1-retired_cost)\n",
    "\n",
    "tax1 = 446136 * 0.3148\n",
    "tax2 = (Real_Month - 446136) * 0.3798\n",
    "tax2_p = (Real_Month*0.75 - 446136) * 0.3798\n",
    "tax_total = tax1 +tax2 - tax_discount\n",
    "tax_total_p = tax1 +tax2_p - tax_discount"
   ]
  },
  {
   "cell_type": "code",
   "execution_count": 2,
   "metadata": {},
   "outputs": [],
   "source": [
    "get1 = Real_Month - tax_total - monthly*uni_cost\n",
    "get2 = Real_Month - tax_total_p - monthly*uni_cost"
   ]
  },
  {
   "cell_type": "code",
   "execution_count": 3,
   "metadata": {},
   "outputs": [
    {
     "name": "stdout",
     "output_type": "stream",
     "text": [
      "388620.83999999997 434196.83999999997\n"
     ]
    }
   ],
   "source": [
    "print(get1,get2)"
   ]
  },
  {
   "cell_type": "code",
   "execution_count": 4,
   "metadata": {},
   "outputs": [
    {
     "data": {
      "text/plain": [
       "8743.958000000002"
      ]
     },
     "execution_count": 4,
     "metadata": {},
     "output_type": "execute_result"
    }
   ],
   "source": [
    "(563500 - get1)/20"
   ]
  }
 ],
 "metadata": {
  "kernelspec": {
   "display_name": "ccatholo",
   "language": "python",
   "name": "python3"
  },
  "language_info": {
   "codemirror_mode": {
    "name": "ipython",
    "version": 3
   },
   "file_extension": ".py",
   "mimetype": "text/x-python",
   "name": "python",
   "nbconvert_exporter": "python",
   "pygments_lexer": "ipython3",
   "version": "3.9.18"
  }
 },
 "nbformat": 4,
 "nbformat_minor": 2
}
