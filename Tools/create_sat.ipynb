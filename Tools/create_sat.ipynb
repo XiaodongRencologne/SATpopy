{
 "cells": [
  {
   "cell_type": "code",
   "execution_count": 1,
   "metadata": {},
   "outputs": [],
   "source": [
    "import numpy as np\n",
    "import W2GRASP_GO, W2GRASP_EO\n",
    "from W2GRASP_GO import write_coord,write_simple_lens\n",
    "from GOElement import coor_sys, simple_lens, Aperture_screen, rim, global_coord\n",
    "#from CreateSurf import zemax2RSF\n",
    "SILICON = 3.416"
   ]
  },
  {
   "cell_type": "code",
   "execution_count": 2,
   "metadata": {},
   "outputs": [],
   "source": [
    "## 1. define coordinate systems\n",
    "coor_ref = coor_sys([0,0,0],[0,0,0],ref_coor = global_coord,name='coor_feed_ref',)\n",
    "coor_feed0 = coor_sys([0,0,0],[np.pi,0,0],ref_coor = coor_ref,name='coor_feed0',)\n",
    "coor_feed1 = coor_sys([0,150,0],[np.pi,0,0],ref_coor = coor_ref,name='coor_feed1',)\n",
    "coor_lens3 = coor_sys([0,0,-59.7333579824145],[0,0,0],ref_coor = coor_ref,name='coor_lens3',)\n",
    "coor_lens2 = coor_sys([0,0,-197.37622450983713],[0,0,0],ref_coor = coor_ref,name='coor_lens2',)\n",
    "coor_filter1 = coor_sys([0,0,-712.6202292255853],[0,0,0],ref_coor = coor_ref,name='coor_filter1')\n",
    "coor_lens1 = coor_sys([0,0,-778.0922710409143],[0,0,0],ref_coor = coor_ref,name='coor_lens1',)\n",
    "coor_Lyot = coor_sys([0,0,-789.9559555174151],[0,0,0],ref_coor = coor_ref,name='coor_Lyot',)\n",
    "coor_filter2 = coor_sys([0,0,-804.9559555174151],[0,0,0],ref_coor = coor_ref,name='coor_filter',)\n",
    "coor_IR = coor_sys([0,0,-816.9559555174151],[0,0,0],ref_coor = coor_ref,name='coor_IR',)\n",
    "coor_cut = coor_sys([0,0,0],[np.pi,0,0],ref_coor = coor_ref,name='coor_cut',)\n",
    "coor_list=[global_coord, coor_ref, \n",
    "           coor_feed0, coor_feed1, \n",
    "           coor_lens1, coor_lens2, coor_filter1, coor_lens3,\n",
    "           coor_Lyot, coor_filter2, coor_IR, coor_cut]"
   ]
  },
  {
   "cell_type": "code",
   "execution_count": 3,
   "metadata": {},
   "outputs": [],
   "source": [
    "### 2. define lenses\n",
    "lens1 = simple_lens(coor_lens1, '450 mm', \n",
    "                 SILICON, loss_tangent = 0, \n",
    "                 r1 = '0 cm', r2 = '0 cm', bs1 = 0, bs2 = 0,\n",
    "                 thickness = '3.547204181532897 cm',\n",
    "                 surf_f1 = './srf/lens1_f1.rsf',\n",
    "                 surf_f2 = './srf/lens1_f2.rsf',\n",
    "                 lengthUnit = 'cm',\n",
    "                 name='lens1')\n",
    "\n",
    "lens2 = simple_lens(coor_lens2, '450 mm', \n",
    "                 SILICON, loss_tangent = 0, \n",
    "                 r1 = '0 cm', r2 = '0 cm', bs1 = 0, bs2 = 0,\n",
    "                 thickness = '3.756087560857544 cm',\n",
    "                 surf_f1 = './srf/lens2_f1.rsf',\n",
    "                 surf_f2 = './srf/lens2_f2.rsf',\n",
    "                 lengthUnit = 'cm',\n",
    "                 name='lens2')\n",
    "\n",
    "lens3 = simple_lens(coor_lens3, '400 mm', \n",
    "                 SILICON, loss_tangent = 0, \n",
    "                 r1 = '0 cm', r2 = '0 cm', bs1 = 0, bs2 = 0,\n",
    "                 thickness = '2.009487634251747 cm',\n",
    "                 surf_f1 = './srf/lens3_f1.rsf',\n",
    "                 surf_f2 = './srf/lens3_f2.rsf',\n",
    "                 lengthUnit = 'cm',\n",
    "                 name='lens3')\n",
    "\n",
    "lens_list = [lens1,lens2,lens3]\n",
    "\n",
    "#### 3 define rim\n",
    "rim_Lyot = rim([0,0], [210,210], Type = 'elliptical_rim',name='rim_Lyot')\n",
    "rim_filter2 = rim([0,0], [213.6294943065297,213.6294943065297], Type = 'elliptical_rim',name='rim_filter2')\n",
    "rim_filter1 = rim([0,0], [221.5879439638061,221.5879439638061], Type = 'elliptical_rim',name='rim_filter1')\n",
    "rim_IR = rim([0,0], [216.9706978673872,216.9706978673872], Type = 'elliptical_rim',name='rim_IR')\n",
    "rim_list = [rim_Lyot, rim_filter1, rim_filter2, rim_IR]\n",
    "\n",
    "### 3.1 aperture in screen\n",
    "Lyot = Aperture_screen(coor_Lyot, rim_Lyot,infinity_shadow = 'on', name='Lyot')\n",
    "Filter2 = Aperture_screen(coor_filter2, rim_filter2,infinity_shadow = 'on', name='Filter2')\n",
    "Filter1 = Aperture_screen(coor_filter1, rim_filter1,infinity_shadow = 'on', name='Filter1')\n",
    "IR_absorber = Aperture_screen(coor_IR, rim_IR, infinity_shadow = 'on', name='IR_obsorber')\n",
    "aper_list = [Lyot,Filter2,Filter1,IR_absorber]"
   ]
  },
  {
   "cell_type": "code",
   "execution_count": 4,
   "metadata": {},
   "outputs": [],
   "source": [
    "with open('output/SAT_simple.tor','w') as f:\n",
    "    for item in coor_list:\n",
    "        f.writelines(item.Str)\n",
    "    for item in lens_list:\n",
    "        f.writelines(item.Str)\n",
    "    for item in rim_list:\n",
    "        f.writelines(item.Str)\n",
    "    for item in aper_list:\n",
    "        f.writelines(item.Str)"
   ]
  },
  {
   "cell_type": "code",
   "execution_count": null,
   "metadata": {},
   "outputs": [],
   "source": []
  }
 ],
 "metadata": {
  "kernelspec": {
   "display_name": "CCATholo",
   "language": "python",
   "name": "python3"
  },
  "language_info": {
   "codemirror_mode": {
    "name": "ipython",
    "version": 3
   },
   "file_extension": ".py",
   "mimetype": "text/x-python",
   "name": "python",
   "nbconvert_exporter": "python",
   "pygments_lexer": "ipython3",
   "version": "3.9.18"
  }
 },
 "nbformat": 4,
 "nbformat_minor": 2
}
