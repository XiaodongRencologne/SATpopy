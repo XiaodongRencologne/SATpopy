{
 "cells": [
  {
   "cell_type": "code",
   "execution_count": 1,
   "metadata": {},
   "outputs": [],
   "source": [
    "import numpy as np\n",
    "import W2GRASP_GO, W2GRASP_EO\n",
    "from W2GRASP_GO import write_coord,write_simple_lens\n",
    "from GO import coor_sys, simple_lens"
   ]
  },
  {
   "cell_type": "code",
   "execution_count": 2,
   "metadata": {},
   "outputs": [],
   "source": [
    "class simple_lens():\n",
    "    def __init__(self, coor_sys, \n",
    "                 diameter, \n",
    "                 refractive_index, loss_tangent = 0, \n",
    "                 r1 = None, r2 = None, bs1 = 0, bs2 = 0,\n",
    "                 thickness = 0,\n",
    "                 surf_f1 = '',\n",
    "                 surf_f2 = '',\n",
    "                 lengthUnit = 'mm',\n",
    "                 coating_surf1 = '', coating_surf2 = '',\n",
    "                 name='simple_lens'):\n",
    "        self.name = name\n",
    "        self.coor_name = coor_sys\n",
    "        self.diameter = diameter\n",
    "        self.refractive_index = refractive_index\n",
    "        self.loss_tangent = loss_tangent\n",
    "        self.r1 =r1\n",
    "        self.r2 = r2\n",
    "        self.bs1 = bs1\n",
    "        self.bs2 = bs2\n",
    "        self.thickness =thickness\n",
    "        self.surf_f1 = surf_f1\n",
    "        self.surf_f2 = surf_f2\n",
    "        self.lengthUnit = lengthUnit\n",
    "        self.coating_surf1 = coating_surf1\n",
    "        self.coating_surf2 = coating_surf2\n",
    "\n",
    "        self.Str = write_simple_lens(self.name,\n",
    "                                     self.coor_name,\n",
    "                                     str(self.diameter)+'mm',\n",
    "                                     self.refractive_index,\n",
    "                                     self.loss_tangent,\n",
    "                                     r1 = self.r1, r2 = self.r2, \n",
    "                                     bs1 = self.bs1, bs2 = self.bs2,\n",
    "                                     thickness = self.thickness,\n",
    "                                     surf1_file = self.surf_f1,surf2_file = self.surf_f2,\n",
    "                                     lengthUnit_file = self.lengthUnit,\n",
    "                                     coating_surf1 = self.coating_surf1, coating_surf2 = self.coating_surf2)"
   ]
  },
  {
   "cell_type": "code",
   "execution_count": 3,
   "metadata": {},
   "outputs": [],
   "source": [
    "coor_ref =coor_sys([0,0,0],[0,0,0],name='coor_feed_ref',)\n",
    "coor_feed0 =coor_sys([0,0,0],[0,0,0],ref_coor_name = coor_ref.name,name='coor_feed0',)\n",
    "coor_feed1 =coor_sys([0,0,0],[0,0,0],ref_coor_name = coor_ref.name,name='coor_feed1',)\n",
    "coor_feed1 =coor_sys([0,0,0],[0,0,0],ref_coor_name = coor_ref.name,name='coor_feed1',)\n",
    "\n",
    "coor_lens1 =coor_sys([0,0,0],[0,0,0],ref_coor_name = coor_ref.name,name='coor_feed1',)\n",
    "\n",
    "coor_list=[coor_ref, coor_feed0, coor_feed1, coor_lens1]"
   ]
  },
  {
   "cell_type": "code",
   "execution_count": null,
   "metadata": {},
   "outputs": [],
   "source": [
    "lens1 = simple_lens(coor_feed1.name, 440, \n",
    "                 1.525, loss_tangent = 0, \n",
    "                 r1 = None, r2 = None, bs1 = 0, bs2 = 0,\n",
    "                 thickness = 0,\n",
    "                 surf_f1 = '',\n",
    "                 surf_f2 = '',\n",
    "                 lengthUnit = 'mm',\n",
    "                 coating_surf1 = '', coating_surf2 = '',\n",
    "                 name='simple_lens')"
   ]
  },
  {
   "cell_type": "code",
   "execution_count": null,
   "metadata": {},
   "outputs": [],
   "source": [
    "for item in coor_list:\n",
    "    print(item.Str)"
   ]
  },
  {
   "cell_type": "code",
   "execution_count": null,
   "metadata": {},
   "outputs": [],
   "source": []
  },
  {
   "cell_type": "code",
   "execution_count": null,
   "metadata": {},
   "outputs": [],
   "source": []
  },
  {
   "cell_type": "code",
   "execution_count": null,
   "metadata": {},
   "outputs": [],
   "source": []
  },
  {
   "cell_type": "code",
   "execution_count": null,
   "metadata": {},
   "outputs": [],
   "source": [
    "write_simple_lens(name,coord_sys,diameter,\n",
    "                    refractive_index, loss_tangent=0,\n",
    "                    r1=None, r2=None,\n",
    "                    bs1=0,bs2=0,\n",
    "                    thickness=0,\n",
    "                    surf1_file='',surf2_file='',lengthUnit_file='mm',\n",
    "                    coating_surf1='',coating_surf2='')"
   ]
  },
  {
   "cell_type": "markdown",
   "metadata": {},
   "source": []
  },
  {
   "cell_type": "code",
   "execution_count": null,
   "metadata": {},
   "outputs": [],
   "source": [
    "coord_Feed_Ref = {'name': 'coor_feed_ref',\n",
    "                  'origin':[0,0,0],\n",
    "                  'angle': [0,0,0],\n",
    "                  'base':'mechanical_axis.cs',\n",
    "                  'Type':'coor_sys'}\n",
    "\n",
    "coord_Feed0 = {'name': 'coor_feed',\n",
    "              'origin': [0,0,0],\n",
    "              'angle': [0,0,0],\n",
    "              'base': coord_Feed_Ref['name']}\n",
    "\n",
    "coord_Feed1 = {'name': 'coor_feed',\n",
    "              'origin': [100,0,0],\n",
    "              'angle': [0,0,0],\n",
    "              'base': coord_Feed_Ref['name']}\n"
   ]
  }
 ],
 "metadata": {
  "kernelspec": {
   "display_name": "ccatholo",
   "language": "python",
   "name": "python3"
  },
  "language_info": {
   "codemirror_mode": {
    "name": "ipython",
    "version": 3
   },
   "file_extension": ".py",
   "mimetype": "text/x-python",
   "name": "python",
   "nbconvert_exporter": "python",
   "pygments_lexer": "ipython3",
   "version": "3.9.18"
  }
 },
 "nbformat": 4,
 "nbformat_minor": 2
}
