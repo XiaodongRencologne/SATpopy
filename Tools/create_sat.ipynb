{
 "cells": [
  {
   "cell_type": "code",
   "execution_count": 1,
   "metadata": {},
   "outputs": [
    {
     "name": "stderr",
     "output_type": "stream",
     "text": [
      "c:\\Users\\xiaod\\.conda\\envs\\CCATholo\\lib\\site-packages\\numpy\\_distributor_init.py:30: UserWarning: loaded more than 1 DLL from .libs:\n",
      "c:\\Users\\xiaod\\.conda\\envs\\CCATholo\\lib\\site-packages\\numpy\\.libs\\libopenblas.EL2C6PLE4ZYW3ECEVIV3OXXGRN2NRFM2.gfortran-win_amd64.dll\n",
      "c:\\Users\\xiaod\\.conda\\envs\\CCATholo\\lib\\site-packages\\numpy\\.libs\\libopenblas.FB5AE2TYXYH2IJRDKGDGQ3XBKLKTF43H.gfortran-win_amd64.dll\n",
      "  warnings.warn(\"loaded more than 1 DLL from .libs:\"\n"
     ]
    }
   ],
   "source": [
    "import numpy as np\n",
    "import W2GRASP_GO, W2GRASP_EO\n",
    "from W2GRASP_GO import write_coord,write_simple_lens\n",
    "from GO import coor_sys, simple_lens\n",
    "from CreateSurf import zemax2RSF"
   ]
  },
  {
   "cell_type": "markdown",
   "metadata": {},
   "source": [
    "create coordinate systems"
   ]
  },
  {
   "cell_type": "code",
   "execution_count": 2,
   "metadata": {},
   "outputs": [],
   "source": [
    "coor_ref =coor_sys([0,0,0],[0,0,0],name='coor_feed_ref',)\n",
    "coor_feed0 =coor_sys([0,0,0],[0,0,0],ref_coor_name = coor_ref.name,name='coor_feed0',)\n",
    "coor_feed1 =coor_sys([0,0,0],[0,0,0],ref_coor_name = coor_ref.name,name='coor_feed1',)\n",
    "coor_feed1 =coor_sys([0,0,0],[0,0,0],ref_coor_name = coor_ref.name,name='coor_feed1',)\n",
    "coor_lens1 =coor_sys([0,0,0],[0,0,0],ref_coor_name = coor_ref.name,name='coor_feed1',)\n",
    "\n",
    "coor_list=[coor_ref, coor_feed0, coor_feed1, coor_lens1]"
   ]
  },
  {
   "cell_type": "markdown",
   "metadata": {},
   "source": [
    "Create lenses"
   ]
  },
  {
   "cell_type": "code",
   "execution_count": 3,
   "metadata": {},
   "outputs": [],
   "source": [
    "lens1 = simple_lens(coor_feed1.name, 440, \n",
    "                 1.525, loss_tangent = 0, \n",
    "                 r1 = 0, r2 = 0, bs1 = 0, bs2 = 0,\n",
    "                 thickness = 0,\n",
    "                 surf_f1 = 'lens1_f1.rsf',\n",
    "                 surf_f2 = 'lens1_f2.rsf',\n",
    "                 lengthUnit = 'cm',\n",
    "                 name='lens1')\n",
    "\n",
    "lens2 = simple_lens(coor_feed1.name, 440, \n",
    "                 1.525, loss_tangent = 0, \n",
    "                 r1 = 0, r2 = 0, bs1 = 0, bs2 = 0,\n",
    "                 thickness = 0,\n",
    "                 surf_f1 = 'lens2_f1.rsf',\n",
    "                 surf_f2 = 'lens2_f2.rsf',\n",
    "                 lengthUnit = 'cm',\n",
    "                 name='lens2')\n",
    "\n",
    "lens3 = simple_lens(coor_feed1.name, 440, \n",
    "                 1.525, loss_tangent = 0, \n",
    "                 r1 = 0, r2 = 0, bs1 = 0, bs2 = 0,\n",
    "                 thickness = 0,\n",
    "                 surf_f1 = 'lens3_f1.rsf',\n",
    "                 surf_f2 = 'lens3_f2.rsf',\n",
    "                 lengthUnit = 'cm',\n",
    "                 name='lens3')\n",
    "\n",
    "lens_list = [lens1,lens2, lens3]"
   ]
  },
  {
   "cell_type": "code",
   "execution_count": 4,
   "metadata": {},
   "outputs": [
    {
     "name": "stdout",
     "output_type": "stream",
     "text": [
      "coor_feed_ref  coor_sys\n",
      "(\n",
      " origin     : struct(x: 0 mm, y: 0 mm, z: 0 mm),\n",
      " x_axis     : struct(x: 1.0, y: 0.0, z: 0.0),\n",
      " y_axis     : struct(x: 0.0, y: 1.0, z: 0.0),\n",
      " base       : ref(mechanical_axis.cs)\n",
      ")\n",
      "\n",
      "\n",
      "coor_feed0  coor_sys\n",
      "(\n",
      " origin     : struct(x: 0 mm, y: 0 mm, z: 0 mm),\n",
      " x_axis     : struct(x: 1.0, y: 0.0, z: 0.0),\n",
      " y_axis     : struct(x: 0.0, y: 1.0, z: 0.0),\n",
      " base       : ref(coor_feed_ref)\n",
      ")\n",
      "\n",
      "\n",
      "coor_feed1  coor_sys\n",
      "(\n",
      " origin     : struct(x: 0 mm, y: 0 mm, z: 0 mm),\n",
      " x_axis     : struct(x: 1.0, y: 0.0, z: 0.0),\n",
      " y_axis     : struct(x: 0.0, y: 1.0, z: 0.0),\n",
      " base       : ref(coor_feed_ref)\n",
      ")\n",
      "\n",
      "\n",
      "coor_feed1  coor_sys\n",
      "(\n",
      " origin     : struct(x: 0 mm, y: 0 mm, z: 0 mm),\n",
      " x_axis     : struct(x: 1.0, y: 0.0, z: 0.0),\n",
      " y_axis     : struct(x: 0.0, y: 1.0, z: 0.0),\n",
      " base       : ref(coor_feed_ref)\n",
      ")\n",
      "\n",
      "\n",
      "lens1simple_lens\n",
      "(\n",
      "  coor_sys         :ref(coor_feed1),\n",
      "  diameter         :440mm,\n",
      "  refractive_index :1.525,\n",
      "  loss_tangent     :0,\n",
      "  bs1              :0,\n",
      "  bs2              :0,\n",
      "  thickness        :0,\n",
      "  surface1_file    :lens1_f1.rsf,\n",
      "  surface2_file       :lens1_f2.rsf,\n",
      "  length_unit_in_files :cm,\n",
      ")\n",
      "\n"
     ]
    }
   ],
   "source": [
    "for item in coor_list:\n",
    "    print(item.Str)\n",
    "print(lens1.Str)"
   ]
  },
  {
   "cell_type": "code",
   "execution_count": null,
   "metadata": {},
   "outputs": [],
   "source": [
    "coord_Feed_Ref = {'name': 'coor_feed_ref',\n",
    "                  'origin':[0,0,0],\n",
    "                  'angle': [0,0,0],\n",
    "                  'base':'mechanical_axis.cs',\n",
    "                  'Type':'coor_sys'}\n",
    "\n",
    "coord_Feed0 = {'name': 'coor_feed',\n",
    "              'origin': [0,0,0],\n",
    "              'angle': [0,0,0],\n",
    "              'base': coord_Feed_Ref['name']}\n",
    "\n",
    "coord_Feed1 = {'name': 'coor_feed',\n",
    "              'origin': [100,0,0],\n",
    "              'angle': [0,0,0],\n",
    "              'base': coord_Feed_Ref['name']}\n"
   ]
  }
 ],
 "metadata": {
  "kernelspec": {
   "display_name": "CCATholo",
   "language": "python",
   "name": "python3"
  },
  "language_info": {
   "codemirror_mode": {
    "name": "ipython",
    "version": 3
   },
   "file_extension": ".py",
   "mimetype": "text/x-python",
   "name": "python",
   "nbconvert_exporter": "python",
   "pygments_lexer": "ipython3",
   "version": "3.9.19"
  }
 },
 "nbformat": 4,
 "nbformat_minor": 2
}
