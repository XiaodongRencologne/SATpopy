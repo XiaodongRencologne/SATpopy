{
 "cells": [
  {
   "cell_type": "code",
   "execution_count": 11,
   "metadata": {},
   "outputs": [],
   "source": [
    "def printtor(f,name,N=77):\n",
    "    for i in list(range(N+1))[1:]:\n",
    "        Str = ''\n",
    "        Str += name+'_P'+str(i)+'  reflector\\n'\n",
    "        Str +='(\\n'\n",
    "        if name == 'M1':\n",
    "            Str +='  coor_sys         : ref(primary_mirror.cs),\\n'\n",
    "            Str +='  surfaces         : sequence(ref(primary_mirror.surf)),\\n'\n",
    "            Str +='  rim              : ref(primary_'+str(i).zfill(2)+'.rim)\\n'\n",
    "        elif name == 'M2':\n",
    "            Str +='  coor_sys         : ref(secondary_mirror.cs),\\n'\n",
    "            Str +='  surfaces         : sequence(ref(secondary_mirror.surf)),\\n'\n",
    "            Str +='  rim              : ref(secondary_'+str(i).zfill(2)+'.rim)\\n'  \n",
    "        Str +=')\\n'         \n",
    "        f.writelines(Str)\n"
   ]
  },
  {
   "cell_type": "code",
   "execution_count": 12,
   "metadata": {},
   "outputs": [],
   "source": [
    "with open('torfile.tor','w') as f:\n",
    "    printtor(f,'M1',N=77)\n",
    "    printtor(f,'M2',N=69)"
   ]
  },
  {
   "cell_type": "code",
   "execution_count": null,
   "metadata": {},
   "outputs": [],
   "source": []
  }
 ],
 "metadata": {
  "kernelspec": {
   "display_name": "FYST_ocs",
   "language": "python",
   "name": "python3"
  },
  "language_info": {
   "codemirror_mode": {
    "name": "ipython",
    "version": 3
   },
   "file_extension": ".py",
   "mimetype": "text/x-python",
   "name": "python",
   "nbconvert_exporter": "python",
   "pygments_lexer": "ipython3",
   "version": "3.12.2"
  }
 },
 "nbformat": 4,
 "nbformat_minor": 2
}
