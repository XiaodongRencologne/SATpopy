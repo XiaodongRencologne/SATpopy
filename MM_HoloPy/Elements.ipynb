{
 "cells": [
  {
   "cell_type": "code",
   "execution_count": null,
   "metadata": {},
   "outputs": [],
   "source": [
    "import numpy as np\n",
    "import matplotlib.pyplot as plt\n",
    "import copy\n",
    "import h5py\n",
    "\n",
    "import pyvista as pv\n",
    "#pv.set_jupyter_backend('trame')\n",
    "#pv.set_jupyter_backend(None) \n",
    "#pv.set_jupyter_backend('server')\n",
    "#pv.set_jupyter_backend('static')\n",
    "\n",
    "from coordinate import global_coord,coord_sys\n",
    "from rim import Elliptical_rim,Rect_rim\n",
    "from surface import PolySurf\n",
    "from Vectorpy import vector\n",
    "\n"
   ]
  },
  {
   "cell_type": "code",
   "execution_count": null,
   "metadata": {},
   "outputs": [],
   "source": [
    "class Geo():\n",
    "    '''\n",
    "    Basic optical element.\n",
    "    '''\n",
    "    def __init__(self,surf,rim,coord_sys=global_coord):\n",
    "        '''basic parameters'''\n",
    "        self.surf=surf\n",
    "        self.rim=rim\n",
    "        self.coord=coord_sys\n",
    "        self.View_3D=None\n",
    "        '''coordinates of the object'''\n",
    "        self.points=vector()\n",
    "        self.r_points=vector()\n",
    "        self.g_points=vector()\n",
    "        self.normal_v=vector()\n",
    "        self.widget=pv.Plotter()\n",
    "        \n",
    "\n",
    "    def view(self):\n",
    "        x,y,w=self.rim.sampling(10,10)\n",
    "        del(w)\n",
    "        z=self.surf.surface(x,y)\n",
    "        x,y,z=self.coord._toGlobal_coord(x,y,z)\n",
    "        points = np.c_[x.reshape(-1), y.reshape(-1), z.reshape(-1)]\n",
    "        del(x,y,z)\n",
    "        if self.View_3D!=None:\n",
    "            self.widget.remove_actor(self.View_3D)\n",
    "        else:\n",
    "            cloud = pv.PolyData(points)\n",
    "            self.View_3D = cloud.delaunay_2d()\n",
    "        del(points)\n",
    "        self.widget.add_mesh(self.View_3D,show_edges=True)\n",
    "        self.widget.show()\n",
    "        \n",
    "    def sampling(self,Nx,Ny):\n",
    "        # sampling\n",
    "        self.points.x,self.points.y,self.weight=self.rim.sampling(Nx,Ny)\n",
    "        # calculate surface in z.\n",
    "        self.points.z=self.surf.surface(self.points.x,self.points.y)\n",
    "        # to global coordinates\n",
    "        self.g_points.x,self.g_points.y,self.g_points.z=self.coord._toGlobal_coord(self.g_points.x,self.g_points.y,self.g_points.z)\n",
    "        # surface normal vectors.\n",
    "        self.normal_v.x,self.normal_v.y,self.normal_v.z,self.N=self.surf.normal_vector(self.points.x,self.points.y)\n",
    "        xyz=np.append([self.normal_v.x,self.normal_v.y],[self.normal_v.z],axis=0)\n",
    "        # convert normal vector in global coordinate system\n",
    "        self.normal_v.x,self.normal_v.y,self.normal_v.z=np.matmul(self.coord.mat_l_g,xyz)\n",
    "        del(xyz)\n",
    "\n",
    "    def to_coord(self,tar_coord):\n",
    "        points_new=vector()\n",
    "        points_new.x,points_new.y,points_new.z=tar_coord.Global_to_local(self.g_points.x,self.g_points.y,self.g_points.z)\n",
    "        return points_new\n",
    "    \n",
    "    def vector_rotation(self,tar_coord):\n",
    "        Nvector=copy.copy(self.normal_v)\n",
    "        xyz=np.matmul(tar_coord.mat_g_l,xyz=np.append([self.normal_v.x,self.normal_v.y],[self.normal_v.z],axis=0))\n",
    "        Nvector.x=xyz[0,:]\n",
    "        Nvector.y=xyz[1,:]\n",
    "        Nvector.z=xyz[2,:]\n",
    "        return Nvector\n"
   ]
  },
  {
   "cell_type": "code",
   "execution_count": null,
   "metadata": {},
   "outputs": [],
   "source": [
    "class Reflector(Geo):\n",
    "    '''\n",
    "    Reflector, perfect conductor\n",
    "    '''\n",
    "    def __init__(self,surf,rim,coord_sys=global_coord,loss=None):\n",
    "        Geo.__init__(self,surf,rim,coord_sys)"
   ]
  },
  {
   "cell_type": "code",
   "execution_count": null,
   "metadata": {},
   "outputs": [],
   "source": [
    "class lens(Geo):\n",
    "    '''\n",
    "    simple lens\n",
    "    '''\n",
    "    def __init__(self,surf,rim,coord_sys=global_coord,):\n",
    "        pass"
   ]
  },
  {
   "cell_type": "code",
   "execution_count": null,
   "metadata": {},
   "outputs": [],
   "source": [
    "Theta_0=0.927295218001612; # offset angle of MR;\n",
    "Ls      = 12000.0;           # distance between focal point and SR\n",
    "Lm      = 6000.0;            # distance between MR and SR;\n",
    "L_fimag=18000+Ls;\n",
    "F=20000;\n",
    "\n",
    "defocus=[0,0,0]\n",
    "angle_m2=[-(np.pi/2+Theta_0)/2,0,0] #  1. m2 and global co-ordinates\n",
    "D_m2=[0,-Lm*np.sin(Theta_0),0]\n",
    "\n",
    "angle_m1=[-Theta_0/2,0,0]          #  2. m1 and global co-ordinates\n",
    "D_m1=[0,0,Lm*np.cos(Theta_0)]\n",
    "\n",
    "angle_s=[0,np.pi,0];               #  3. source and global co-ordinates\n",
    "D_s=[0,0,0];\n",
    "\n",
    "angle_fimag=[-Theta_0,0,0];        #  4. fimag and global co-ordinates\n",
    "defocus_fimag=[0,0,0];\n",
    "defocus_fimag[2]=1/(1/F-1/(Ls+defocus[2]))+L_fimag;\n",
    "defocus_fimag[1]=(F+L_fimag-defocus_fimag[2])/F*defocus[1];\n",
    "defocus_fimag[0]=(F+L_fimag-defocus_fimag[2])/F*defocus[0];\n",
    "D_fimag=[0,0,0]\n",
    "D_fimag[0]=defocus_fimag[0];\n",
    "D_fimag[1]=defocus_fimag[1]*np.cos(Theta_0)-np.sin(Theta_0)*(L_fimag-defocus_fimag[2]+Lm);\n",
    "D_fimag[2]=-defocus_fimag[1]*np.sin(Theta_0)-np.cos(Theta_0)*(L_fimag-defocus_fimag[2]);\n",
    "\n",
    "# 5. feed and global co-ordinate\n",
    "'''\n",
    "C=1/(1/Lm-1/F)+defocus[2]+Ls;\n",
    "C=21000;\n",
    "angle_f=[np.pi/2-defocus[1]/C,0,-defocus[0]/C]; \n",
    "D_f=[defocus[0],Ls+defocus[2]-Lm*np.sin(Theta_0),-defocus[1]];\n",
    "'''\n",
    "angle_f=[np.pi/2,0,0];    \n",
    "D_f=[defocus[0],Ls+defocus[2]-Lm*np.sin(Theta_0),-defocus[1]]\n",
    "\n",
    "surf_M1=PolySurf('coeffi_m1.surfc',R=3000)\n",
    "coor_M1=coord_sys(D_m1,angle_m1,axes='xyz',ref_coord=global_coord)\n",
    "rim_M1=Rect_rim([0,0],6000,6000)\n",
    "\n",
    "surf_M2=PolySurf('coeffi_m2.surfc',R=3000)\n",
    "coor_M2=coord_sys(D_m2,angle_m2,axes='xyz',ref_coord=global_coord)\n",
    "rim_M2=Rect_rim([0,0],6000,6000)"
   ]
  },
  {
   "cell_type": "code",
   "execution_count": null,
   "metadata": {},
   "outputs": [],
   "source": [
    "Ref_m1=Reflector(surf_M1,rim_M1,coord_sys=coor_M1)\n",
    "Ref_m2=Reflector(surf_M2,rim_M2,coord_sys=coor_M2)\n",
    "Ref_m1.sampling(100,100)\n",
    "Ref_m2.sampling(100,100)\n",
    "Ref_m1.view()\n",
    "Ref_m2.view()\n",
    "p.show()"
   ]
  },
  {
   "cell_type": "code",
   "execution_count": null,
   "metadata": {},
   "outputs": [],
   "source": [
    "Ref_m1.view(p)\n",
    "Ref_m2.view(p)\n",
    "p.show()"
   ]
  },
  {
   "cell_type": "code",
   "execution_count": null,
   "metadata": {},
   "outputs": [],
   "source": []
  },
  {
   "cell_type": "code",
   "execution_count": null,
   "metadata": {},
   "outputs": [],
   "source": [
    "O2=vector()\n",
    "O2.x=np.array([1.1,4.5])"
   ]
  },
  {
   "cell_type": "code",
   "execution_count": null,
   "metadata": {},
   "outputs": [],
   "source": [
    "def test(d):\n",
    "    d.__init__()\n",
    "    del(d)"
   ]
  },
  {
   "cell_type": "code",
   "execution_count": null,
   "metadata": {},
   "outputs": [],
   "source": [
    "test(O2)\n",
    "O2.x"
   ]
  },
  {
   "cell_type": "code",
   "execution_count": null,
   "metadata": {},
   "outputs": [],
   "source": [
    "O2.to_Tensor(T.device('cuda'))"
   ]
  },
  {
   "cell_type": "code",
   "execution_count": null,
   "metadata": {},
   "outputs": [],
   "source": [
    "T.cuda.is_available()"
   ]
  },
  {
   "cell_type": "code",
   "execution_count": null,
   "metadata": {},
   "outputs": [],
   "source": [
    "O2.x"
   ]
  },
  {
   "cell_type": "code",
   "execution_count": 27,
   "metadata": {},
   "outputs": [],
   "source": [
    "import torch as T\n",
    "x=T.ones((10001,13001),dtype=T.cdouble)"
   ]
  },
  {
   "cell_type": "code",
   "execution_count": null,
   "metadata": {},
   "outputs": [],
   "source": [
    "x.to(T.device('cuda:0'))"
   ]
  },
  {
   "cell_type": "code",
   "execution_count": null,
   "metadata": {},
   "outputs": [],
   "source": [
    "T.cuda.memory_allocated(0)/(1024**3)"
   ]
  },
  {
   "cell_type": "code",
   "execution_count": null,
   "metadata": {},
   "outputs": [],
   "source": [
    "T.cuda.get_device_properties(0).total_memory/(1024**3)"
   ]
  },
  {
   "cell_type": "code",
   "execution_count": null,
   "metadata": {},
   "outputs": [],
   "source": [
    "import numpy as np\n",
    "x=T.tensor(np.linspace(-1,1,101))"
   ]
  },
  {
   "cell_type": "code",
   "execution_count": null,
   "metadata": {},
   "outputs": [],
   "source": [
    "x=x.to('cuda')\n",
    "x"
   ]
  },
  {
   "cell_type": "code",
   "execution_count": 29,
   "metadata": {},
   "outputs": [
    {
     "data": {
      "text/plain": [
       "tensor([[[1],\n",
       "         [2],\n",
       "         [3]],\n",
       "\n",
       "        [[1],\n",
       "         [2],\n",
       "         [3]],\n",
       "\n",
       "        [[1],\n",
       "         [2],\n",
       "         [3]],\n",
       "\n",
       "        [[1],\n",
       "         [2],\n",
       "         [3]],\n",
       "\n",
       "        [[1],\n",
       "         [2],\n",
       "         [3]]], dtype=torch.int32)"
      ]
     },
     "execution_count": 29,
     "metadata": {},
     "output_type": "execute_result"
    }
   ],
   "source": [
    "x=T.tensor(np.array([[1,1,1,1,1],[2,2,2,2,2],[3,3,3,3,3]]).T).reshape((5,3,1))\n",
    "x"
   ]
  },
  {
   "cell_type": "code",
   "execution_count": 30,
   "metadata": {},
   "outputs": [],
   "source": [
    "y=T.tensor([[1,3,4,5],\n",
    "            [6,7,8,9],\n",
    "            [10,11,12,13]])"
   ]
  },
  {
   "cell_type": "code",
   "execution_count": 31,
   "metadata": {},
   "outputs": [
    {
     "data": {
      "text/plain": [
       "tensor([[[  0,  -2,  -3,  -4],\n",
       "         [ -4,  -5,  -6,  -7],\n",
       "         [ -7,  -8,  -9, -10]],\n",
       "\n",
       "        [[  0,  -2,  -3,  -4],\n",
       "         [ -4,  -5,  -6,  -7],\n",
       "         [ -7,  -8,  -9, -10]],\n",
       "\n",
       "        [[  0,  -2,  -3,  -4],\n",
       "         [ -4,  -5,  -6,  -7],\n",
       "         [ -7,  -8,  -9, -10]],\n",
       "\n",
       "        [[  0,  -2,  -3,  -4],\n",
       "         [ -4,  -5,  -6,  -7],\n",
       "         [ -7,  -8,  -9, -10]],\n",
       "\n",
       "        [[  0,  -2,  -3,  -4],\n",
       "         [ -4,  -5,  -6,  -7],\n",
       "         [ -7,  -8,  -9, -10]]])"
      ]
     },
     "execution_count": 31,
     "metadata": {},
     "output_type": "execute_result"
    }
   ],
   "source": [
    "C=x-y\n",
    "C"
   ]
  },
  {
   "cell_type": "code",
   "execution_count": 32,
   "metadata": {},
   "outputs": [
    {
     "data": {
      "text/plain": [
       "tensor([[[  0,   4,   9,  16],\n",
       "         [ 16,  25,  36,  49],\n",
       "         [ 49,  64,  81, 100]],\n",
       "\n",
       "        [[  0,   4,   9,  16],\n",
       "         [ 16,  25,  36,  49],\n",
       "         [ 49,  64,  81, 100]],\n",
       "\n",
       "        [[  0,   4,   9,  16],\n",
       "         [ 16,  25,  36,  49],\n",
       "         [ 49,  64,  81, 100]],\n",
       "\n",
       "        [[  0,   4,   9,  16],\n",
       "         [ 16,  25,  36,  49],\n",
       "         [ 49,  64,  81, 100]],\n",
       "\n",
       "        [[  0,   4,   9,  16],\n",
       "         [ 16,  25,  36,  49],\n",
       "         [ 49,  64,  81, 100]]])"
      ]
     },
     "execution_count": 32,
     "metadata": {},
     "output_type": "execute_result"
    }
   ],
   "source": [
    "C**2"
   ]
  },
  {
   "cell_type": "code",
   "execution_count": 33,
   "metadata": {},
   "outputs": [
    {
     "data": {
      "text/plain": [
       "tensor([[ 65,  93, 126, 165],\n",
       "        [ 65,  93, 126, 165],\n",
       "        [ 65,  93, 126, 165],\n",
       "        [ 65,  93, 126, 165],\n",
       "        [ 65,  93, 126, 165]])"
      ]
     },
     "execution_count": 33,
     "metadata": {},
     "output_type": "execute_result"
    }
   ],
   "source": [
    "T.sum(C**2,axis=-2)"
   ]
  },
  {
   "cell_type": "code",
   "execution_count": 5,
   "metadata": {},
   "outputs": [
    {
     "data": {
      "text/plain": [
       "array([0., 1., 2., 3., 4., 5., 6., 7.])"
      ]
     },
     "execution_count": 5,
     "metadata": {},
     "output_type": "execute_result"
    }
   ],
   "source": [
    "x"
   ]
  },
  {
   "cell_type": "code",
   "execution_count": 28,
   "metadata": {},
   "outputs": [
    {
     "data": {
      "text/plain": [
       "3.141592653589793"
      ]
     },
     "execution_count": 28,
     "metadata": {},
     "output_type": "execute_result"
    }
   ],
   "source": [
    "T.pi"
   ]
  },
  {
   "cell_type": "code",
   "execution_count": null,
   "metadata": {},
   "outputs": [],
   "source": []
  }
 ],
 "metadata": {
  "kernelspec": {
   "display_name": "base",
   "language": "python",
   "name": "python3"
  },
  "language_info": {
   "codemirror_mode": {
    "name": "ipython",
    "version": 3
   },
   "file_extension": ".py",
   "mimetype": "text/x-python",
   "name": "python",
   "nbconvert_exporter": "python",
   "pygments_lexer": "ipython3",
   "version": "3.9.12"
  }
 },
 "nbformat": 4,
 "nbformat_minor": 2
}
